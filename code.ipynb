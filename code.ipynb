{
 "cells": [
  {
   "cell_type": "code",
   "execution_count": 1,
   "id": "tribal-printing",
   "metadata": {},
   "outputs": [],
   "source": [
    "%matplotlib inline\n",
    "\n",
    "import cv2\n",
    "import os\n",
    "import numpy as np\n",
    "import keras\n",
    "import matplotlib.pyplot as plt\n",
    "\n",
    "from random import shuffle\n",
    "from keras.applications import VGG16\n",
    "from keras.applications import VGG19\n",
    "from keras import backend as K\n",
    "from keras.models import Model, Sequential\n",
    "from keras.layers import Input\n",
    "from keras.layers import LSTM, Bidirectional\n",
    "from keras.layers import Dense, Activation\n",
    "import sys\n",
    "import h5py\n"
   ]
  },
  {
   "cell_type": "code",
   "execution_count": 2,
   "id": "delayed-germany",
   "metadata": {},
   "outputs": [],
   "source": [
    "def print_progress(count, max_count):\n",
    "\n",
    "    pct_complete = count / max_count\n",
    "\n",
    "    msg = \"\\r- Progress: {0:.1%}\".format(pct_complete)\n",
    "\n",
    "    sys.stdout.write(msg)\n",
    "    sys.stdout.flush()"
   ]
  },
  {
   "cell_type": "code",
   "execution_count": 3,
   "id": "contemporary-modern",
   "metadata": {},
   "outputs": [],
   "source": [
    "in_dir = \"./reallife_dataset/\""
   ]
  },
  {
   "cell_type": "code",
   "execution_count": 4,
   "id": "spanish-change",
   "metadata": {},
   "outputs": [],
   "source": [
    "\n",
    "img_size = 224\n",
    "img_size_touple = (img_size, img_size)\n",
    "num_channels = 3\n",
    "img_size_flat = img_size * img_size * num_channels\n",
    "num_classes = 2\n",
    "_num_files_train = 1\n",
    "_images_per_file = 20\n",
    "_num_images_train = _num_files_train * _images_per_file\n",
    "video_exts = \".avi\""
   ]
  },
  {
   "cell_type": "code",
   "execution_count": 5,
   "id": "every-headset",
   "metadata": {},
   "outputs": [],
   "source": [
    "def get_frames(current_dir, file_name):\n",
    "    \n",
    "    in_file = os.path.join(current_dir, file_name)\n",
    "    images = []\n",
    "    vidcap = cv2.VideoCapture(in_file)\n",
    "    success,image = vidcap.read()    \n",
    "    count = 0\n",
    "\n",
    "    while count<_images_per_file:\n",
    "                \n",
    "        RGB_img = cv2.cvtColor(image, cv2.COLOR_BGR2RGB)\n",
    "        res = cv2.resize(RGB_img, dsize=(img_size, img_size),\n",
    "                                 interpolation=cv2.INTER_CUBIC)\n",
    "        images.append(res)\n",
    "        success,image = vidcap.read()\n",
    "        count += 1     \n",
    "    resul = np.array(images) \n",
    "    resul = (resul / 255.).astype(np.float16)\n",
    "        \n",
    "    return resul"
   ]
  },
  {
   "cell_type": "code",
   "execution_count": 6,
   "id": "solar-chick",
   "metadata": {},
   "outputs": [],
   "source": [
    "def label_video_names(in_dir):\n",
    "    \n",
    "    names = []\n",
    "   \n",
    "    labels = []\n",
    "    \n",
    "    \n",
    "    for current_dir, dir_names,file_names in os.walk(in_dir):\n",
    "        \n",
    "        for file_name in file_names:\n",
    "            \n",
    "            if file_name[0:2] == 'fi':\n",
    "                labels.append([1,0])\n",
    "                names.append(file_name)\n",
    "            elif file_name[0:2] == 'no':\n",
    "                labels.append([0,1])\n",
    "                names.append(file_name)\n",
    "                     \n",
    "            \n",
    "    c = list(zip(names,labels))\n",
    "    shuffle(c)\n",
    "    \n",
    "    names, labels = zip(*c)\n",
    "            \n",
    "    return names, labels"
   ]
  },
  {
   "cell_type": "code",
   "execution_count": 7,
   "id": "equipped-booth",
   "metadata": {},
   "outputs": [
    {
     "name": "stdout",
     "output_type": "stream",
     "text": [
      "([0, 1], [0, 1], [0, 1], [0, 1], [1, 0], [1, 0], [1, 0], [0, 1], [1, 0], [0, 1], [1, 0], [1, 0], [1, 0], [0, 1], [1, 0], [1, 0], [0, 1], [0, 1], [0, 1], [0, 1], [0, 1], [1, 0], [0, 1], [1, 0], [1, 0], [1, 0], [0, 1], [0, 1], [0, 1], [0, 1], [1, 0], [0, 1], [0, 1], [0, 1], [1, 0], [0, 1], [0, 1], [0, 1], [1, 0], [1, 0], [0, 1], [0, 1], [0, 1], [0, 1], [0, 1], [1, 0], [1, 0], [0, 1], [0, 1], [0, 1], [0, 1], [1, 0], [0, 1], [1, 0], [1, 0], [0, 1], [0, 1], [0, 1], [0, 1], [0, 1], [0, 1], [1, 0], [0, 1], [0, 1], [0, 1], [1, 0], [1, 0], [0, 1], [1, 0], [1, 0], [0, 1], [0, 1], [0, 1], [0, 1], [0, 1], [1, 0], [0, 1], [0, 1], [0, 1], [0, 1], [0, 1], [0, 1], [1, 0], [0, 1], [1, 0], [1, 0], [1, 0], [1, 0], [0, 1], [0, 1], [0, 1], [0, 1], [0, 1], [1, 0], [0, 1], [0, 1], [0, 1], [1, 0], [0, 1], [0, 1], [0, 1], [0, 1], [1, 0], [0, 1], [1, 0], [0, 1], [1, 0], [0, 1], [0, 1], [0, 1], [0, 1], [0, 1], [0, 1], [0, 1], [1, 0], [1, 0], [1, 0], [1, 0], [1, 0], [1, 0], [0, 1], [1, 0], [0, 1], [0, 1], [0, 1], [0, 1], [1, 0], [0, 1], [0, 1], [1, 0], [0, 1], [0, 1], [0, 1], [1, 0], [1, 0], [1, 0], [0, 1], [0, 1], [0, 1], [1, 0], [0, 1], [1, 0], [1, 0], [0, 1], [0, 1], [1, 0], [0, 1], [1, 0], [0, 1], [0, 1], [0, 1], [0, 1], [1, 0], [1, 0], [1, 0], [0, 1], [0, 1], [1, 0], [0, 1], [1, 0], [0, 1], [1, 0], [0, 1], [0, 1], [1, 0], [0, 1], [0, 1], [1, 0], [0, 1], [1, 0], [0, 1], [0, 1], [1, 0], [0, 1], [0, 1], [0, 1], [0, 1], [1, 0], [0, 1], [1, 0], [1, 0], [1, 0], [0, 1], [0, 1], [0, 1], [1, 0], [1, 0], [1, 0], [0, 1], [1, 0], [0, 1], [0, 1], [1, 0], [0, 1], [0, 1], [1, 0], [0, 1], [0, 1], [0, 1], [1, 0], [1, 0], [1, 0], [1, 0], [0, 1], [0, 1], [0, 1], [1, 0], [1, 0], [1, 0], [1, 0], [1, 0], [0, 1], [0, 1], [0, 1], [1, 0], [1, 0], [0, 1], [1, 0], [0, 1], [0, 1], [1, 0], [0, 1], [0, 1], [0, 1], [1, 0], [1, 0], [1, 0], [0, 1], [0, 1], [1, 0], [1, 0], [0, 1], [1, 0], [1, 0], [0, 1], [1, 0], [1, 0], [0, 1], [1, 0], [1, 0], [0, 1], [0, 1], [0, 1], [0, 1], [1, 0], [1, 0], [0, 1], [1, 0], [1, 0], [0, 1], [0, 1], [0, 1], [0, 1], [1, 0], [0, 1], [1, 0], [0, 1], [1, 0], [0, 1], [1, 0], [0, 1], [1, 0], [0, 1], [0, 1], [0, 1], [1, 0], [1, 0], [0, 1], [1, 0], [0, 1], [0, 1], [0, 1], [0, 1], [1, 0], [0, 1], [0, 1], [1, 0], [0, 1], [0, 1], [0, 1], [1, 0], [0, 1], [0, 1], [1, 0], [0, 1], [1, 0], [1, 0], [1, 0], [1, 0], [1, 0], [1, 0], [1, 0], [1, 0], [0, 1], [1, 0], [1, 0], [1, 0], [0, 1], [0, 1], [0, 1], [0, 1], [1, 0], [0, 1], [0, 1], [1, 0], [0, 1], [0, 1], [1, 0], [0, 1], [0, 1], [0, 1], [0, 1], [1, 0], [1, 0], [1, 0], [0, 1], [0, 1], [1, 0], [1, 0], [0, 1], [1, 0], [1, 0], [0, 1], [0, 1], [0, 1], [1, 0], [1, 0], [0, 1], [0, 1], [0, 1], [1, 0], [1, 0], [0, 1], [1, 0], [1, 0], [0, 1], [0, 1], [1, 0], [0, 1], [0, 1], [1, 0], [0, 1], [0, 1], [0, 1], [0, 1], [1, 0], [0, 1], [0, 1], [0, 1], [0, 1], [0, 1], [1, 0], [0, 1], [1, 0], [0, 1], [1, 0], [0, 1], [0, 1], [0, 1], [0, 1], [0, 1], [1, 0], [1, 0], [0, 1], [1, 0], [1, 0], [0, 1], [0, 1], [0, 1], [0, 1], [0, 1], [0, 1], [0, 1], [1, 0], [1, 0], [1, 0], [1, 0], [0, 1], [0, 1], [0, 1], [0, 1], [0, 1], [1, 0], [0, 1], [0, 1], [0, 1], [1, 0], [0, 1], [0, 1], [1, 0], [0, 1], [0, 1], [1, 0], [1, 0], [0, 1], [0, 1], [0, 1], [0, 1], [1, 0], [1, 0], [1, 0], [0, 1], [1, 0], [0, 1], [0, 1], [0, 1], [0, 1], [1, 0], [1, 0], [0, 1], [0, 1], [1, 0], [0, 1], [0, 1], [1, 0], [0, 1], [0, 1], [0, 1], [0, 1], [1, 0], [1, 0], [0, 1], [1, 0], [0, 1], [0, 1], [0, 1], [0, 1], [0, 1], [1, 0], [0, 1], [0, 1], [1, 0], [0, 1], [0, 1], [0, 1], [0, 1], [0, 1], [0, 1], [1, 0], [1, 0], [0, 1], [0, 1], [1, 0], [1, 0], [0, 1], [0, 1], [1, 0], [0, 1], [1, 0], [1, 0], [0, 1], [1, 0], [0, 1], [1, 0], [0, 1], [1, 0], [0, 1], [0, 1], [0, 1], [0, 1], [0, 1], [1, 0], [0, 1], [1, 0], [0, 1], [0, 1], [1, 0], [0, 1], [1, 0], [1, 0], [1, 0], [0, 1], [0, 1], [0, 1], [1, 0], [0, 1], [0, 1], [1, 0], [0, 1], [0, 1], [0, 1], [1, 0], [0, 1], [0, 1], [0, 1], [0, 1], [0, 1], [1, 0], [1, 0], [1, 0], [0, 1], [1, 0], [0, 1], [0, 1], [1, 0], [0, 1], [0, 1], [1, 0], [0, 1], [0, 1], [1, 0], [0, 1], [0, 1], [1, 0], [1, 0], [0, 1], [0, 1], [0, 1], [0, 1], [0, 1], [0, 1], [0, 1], [1, 0], [1, 0], [0, 1], [0, 1], [0, 1], [0, 1], [0, 1], [1, 0], [1, 0], [0, 1], [0, 1], [0, 1], [1, 0], [0, 1], [1, 0], [1, 0], [1, 0], [0, 1], [0, 1], [0, 1], [0, 1], [0, 1], [0, 1], [0, 1], [0, 1], [0, 1], [1, 0], [1, 0], [1, 0], [0, 1], [1, 0], [1, 0], [0, 1], [1, 0], [1, 0], [1, 0], [1, 0], [0, 1], [1, 0], [0, 1], [0, 1], [1, 0], [1, 0], [1, 0], [0, 1], [1, 0], [1, 0], [1, 0], [0, 1], [0, 1], [0, 1], [0, 1], [1, 0], [0, 1], [0, 1], [0, 1], [0, 1], [0, 1], [1, 0], [1, 0], [1, 0], [1, 0], [0, 1], [0, 1], [1, 0], [1, 0], [1, 0], [0, 1], [1, 0], [1, 0], [0, 1], [0, 1], [0, 1], [0, 1], [1, 0], [0, 1], [0, 1], [1, 0], [0, 1], [0, 1], [0, 1], [0, 1], [0, 1], [0, 1], [1, 0], [1, 0], [0, 1], [0, 1], [1, 0], [0, 1], [1, 0], [0, 1], [1, 0], [1, 0], [1, 0], [1, 0], [0, 1], [0, 1], [1, 0], [0, 1], [0, 1], [1, 0], [0, 1], [1, 0], [0, 1], [1, 0], [0, 1], [1, 0], [1, 0], [0, 1], [0, 1], [1, 0], [0, 1], [0, 1], [0, 1], [0, 1], [0, 1], [0, 1], [0, 1], [0, 1], [0, 1], [0, 1], [0, 1], [1, 0], [1, 0], [0, 1], [0, 1], [0, 1], [0, 1], [1, 0], [1, 0], [0, 1], [0, 1], [0, 1], [0, 1], [0, 1], [1, 0], [0, 1], [1, 0], [0, 1], [0, 1], [0, 1], [0, 1], [0, 1], [0, 1], [0, 1], [1, 0], [0, 1], [1, 0], [0, 1], [0, 1], [0, 1], [1, 0], [1, 0], [0, 1], [0, 1], [0, 1], [1, 0], [0, 1], [1, 0], [0, 1], [0, 1], [0, 1], [1, 0], [0, 1], [0, 1], [1, 0], [0, 1], [1, 0], [0, 1], [0, 1], [0, 1], [0, 1], [0, 1], [0, 1], [1, 0], [0, 1], [0, 1], [0, 1], [0, 1], [0, 1], [0, 1], [0, 1], [0, 1], [0, 1], [0, 1], [0, 1], [1, 0], [0, 1], [0, 1], [1, 0], [1, 0], [0, 1], [1, 0], [0, 1], [0, 1], [1, 0], [0, 1], [0, 1], [0, 1], [1, 0], [0, 1], [0, 1], [0, 1], [1, 0], [0, 1], [0, 1], [1, 0], [1, 0], [0, 1], [0, 1], [1, 0], [1, 0], [0, 1], [0, 1], [1, 0], [1, 0], [0, 1], [0, 1], [0, 1], [1, 0], [1, 0], [0, 1], [1, 0], [0, 1], [1, 0], [0, 1], [0, 1], [0, 1], [1, 0], [1, 0], [0, 1], [0, 1], [0, 1], [1, 0], [1, 0], [0, 1], [0, 1], [1, 0], [1, 0], [0, 1], [0, 1], [0, 1], [0, 1], [1, 0], [1, 0], [1, 0], [0, 1], [0, 1], [1, 0], [0, 1], [0, 1], [1, 0], [1, 0], [1, 0], [0, 1], [0, 1], [1, 0], [0, 1], [0, 1], [0, 1], [0, 1], [0, 1], [0, 1], [0, 1], [0, 1], [1, 0], [0, 1], [0, 1], [0, 1], [0, 1], [0, 1], [0, 1], [1, 0], [1, 0], [1, 0], [0, 1], [0, 1], [0, 1], [0, 1], [0, 1], [0, 1], [0, 1], [0, 1], [0, 1], [0, 1], [0, 1], [0, 1], [1, 0], [0, 1], [0, 1], [1, 0], [1, 0], [0, 1], [0, 1], [1, 0], [0, 1], [0, 1], [1, 0], [0, 1], [1, 0], [1, 0], [0, 1], [0, 1], [1, 0], [0, 1], [1, 0], [0, 1], [1, 0], [1, 0], [0, 1], [0, 1], [0, 1], [0, 1], [0, 1], [0, 1], [0, 1], [0, 1], [0, 1], [1, 0], [0, 1], [0, 1], [1, 0], [1, 0], [0, 1], [0, 1], [1, 0], [1, 0], [0, 1], [0, 1], [0, 1], [0, 1], [1, 0], [0, 1], [0, 1], [0, 1], [0, 1], [0, 1], [0, 1], [0, 1], [0, 1], [0, 1], [1, 0], [0, 1], [1, 0], [0, 1], [0, 1], [1, 0], [1, 0], [1, 0], [0, 1], [0, 1], [0, 1], [0, 1], [0, 1], [1, 0], [0, 1], [0, 1], [0, 1], [0, 1], [0, 1], [0, 1], [0, 1], [1, 0], [1, 0], [0, 1], [0, 1], [0, 1], [0, 1], [0, 1], [0, 1], [0, 1], [0, 1], [1, 0], [0, 1], [1, 0], [0, 1], [0, 1], [1, 0], [1, 0], [0, 1], [1, 0], [1, 0], [0, 1], [0, 1], [1, 0], [0, 1], [1, 0], [0, 1], [1, 0], [0, 1], [1, 0], [1, 0], [0, 1], [1, 0], [0, 1], [0, 1], [0, 1], [1, 0], [0, 1], [0, 1], [1, 0], [1, 0], [0, 1], [0, 1], [0, 1], [0, 1], [0, 1], [1, 0], [1, 0], [1, 0], [0, 1], [0, 1], [0, 1], [0, 1], [0, 1], [0, 1], [0, 1], [0, 1], [1, 0], [1, 0], [1, 0], [0, 1], [0, 1], [1, 0], [0, 1], [1, 0], [0, 1], [1, 0], [0, 1], [0, 1], [0, 1], [0, 1], [1, 0], [0, 1], [0, 1], [1, 0], [0, 1], [0, 1], [0, 1], [1, 0], [0, 1], [1, 0], [1, 0], [0, 1], [1, 0], [0, 1], [0, 1], [0, 1], [0, 1], [0, 1], [0, 1], [0, 1], [0, 1], [0, 1], [1, 0], [0, 1], [1, 0], [1, 0], [1, 0], [0, 1], [0, 1], [0, 1], [0, 1], [1, 0], [1, 0], [0, 1], [0, 1], [0, 1], [0, 1], [0, 1], [1, 0], [0, 1], [0, 1], [1, 0], [0, 1], [0, 1], [0, 1], [0, 1], [1, 0], [0, 1], [0, 1], [1, 0], [0, 1], [1, 0], [0, 1], [1, 0], [0, 1], [0, 1], [1, 0], [0, 1], [0, 1], [0, 1], [0, 1], [1, 0], [1, 0], [0, 1], [0, 1], [0, 1], [0, 1], [1, 0], [1, 0], [1, 0], [1, 0], [0, 1], [1, 0], [0, 1], [1, 0], [0, 1], [1, 0], [0, 1], [1, 0], [0, 1], [0, 1], [0, 1], [0, 1], [0, 1], [1, 0], [1, 0], [0, 1], [1, 0], [0, 1], [0, 1], [1, 0], [0, 1], [1, 0], [0, 1], [1, 0], [1, 0], [1, 0], [0, 1], [0, 1], [0, 1], [0, 1], [1, 0], [0, 1], [0, 1], [1, 0], [1, 0], [0, 1], [1, 0], [0, 1], [1, 0], [1, 0], [0, 1], [0, 1], [0, 1], [1, 0], [1, 0], [1, 0], [0, 1], [1, 0], [0, 1], [0, 1], [0, 1], [1, 0], [0, 1], [0, 1], [0, 1], [0, 1], [0, 1], [1, 0], [0, 1], [0, 1], [0, 1], [1, 0], [0, 1], [0, 1], [0, 1], [0, 1], [1, 0], [1, 0], [0, 1], [0, 1], [0, 1], [0, 1], [0, 1], [0, 1], [0, 1], [1, 0], [0, 1], [1, 0], [1, 0], [1, 0], [1, 0], [0, 1], [1, 0], [0, 1], [1, 0], [0, 1], [1, 0], [0, 1], [0, 1], [0, 1], [0, 1], [0, 1], [0, 1], [1, 0], [0, 1], [0, 1], [0, 1], [0, 1], [0, 1], [1, 0], [1, 0], [0, 1], [1, 0], [0, 1], [1, 0], [0, 1], [1, 0], [0, 1], [0, 1], [0, 1], [1, 0], [1, 0], [0, 1], [0, 1], [0, 1], [1, 0], [0, 1], [1, 0], [1, 0], [0, 1], [0, 1], [1, 0], [0, 1], [1, 0], [0, 1], [0, 1], [0, 1], [1, 0], [0, 1], [0, 1], [0, 1], [1, 0], [1, 0], [1, 0], [0, 1], [0, 1], [1, 0], [0, 1], [1, 0], [0, 1], [0, 1], [0, 1], [0, 1], [0, 1], [1, 0], [0, 1], [1, 0], [0, 1], [0, 1], [1, 0], [1, 0], [0, 1], [1, 0], [0, 1], [1, 0], [0, 1], [0, 1], [0, 1], [0, 1], [0, 1], [0, 1], [0, 1], [0, 1], [0, 1], [0, 1], [1, 0], [0, 1], [0, 1], [0, 1], [0, 1], [0, 1], [1, 0], [1, 0], [0, 1], [1, 0], [0, 1], [0, 1], [1, 0], [1, 0], [0, 1], [1, 0], [0, 1], [1, 0], [1, 0], [0, 1], [0, 1], [0, 1], [0, 1], [0, 1], [0, 1], [0, 1], [0, 1], [0, 1], [0, 1], [0, 1], [0, 1], [0, 1], [0, 1], [1, 0], [0, 1], [0, 1], [1, 0], [1, 0], [0, 1], [0, 1], [0, 1], [1, 0], [1, 0], [1, 0], [1, 0], [0, 1], [0, 1], [1, 0], [0, 1], [0, 1], [1, 0], [1, 0], [0, 1], [1, 0], [0, 1], [0, 1], [1, 0], [1, 0], [1, 0], [0, 1], [0, 1], [1, 0], [1, 0], [0, 1], [1, 0], [1, 0], [0, 1], [1, 0], [1, 0], [0, 1], [0, 1], [0, 1], [1, 0], [1, 0], [0, 1], [0, 1], [1, 0], [0, 1], [1, 0], [0, 1], [0, 1], [0, 1], [0, 1], [1, 0], [0, 1], [0, 1], [1, 0], [1, 0], [0, 1], [1, 0], [0, 1], [0, 1], [1, 0], [1, 0], [1, 0], [1, 0], [0, 1], [1, 0], [1, 0], [0, 1], [0, 1], [0, 1], [0, 1], [1, 0], [0, 1], [0, 1], [1, 0], [1, 0], [0, 1], [1, 0], [0, 1], [0, 1], [0, 1], [0, 1], [1, 0], [0, 1], [0, 1], [0, 1], [0, 1], [1, 0], [0, 1], [1, 0], [1, 0], [1, 0], [1, 0], [1, 0], [1, 0], [0, 1], [1, 0], [0, 1], [0, 1], [1, 0], [0, 1], [0, 1], [0, 1], [1, 0], [1, 0], [0, 1], [0, 1], [1, 0], [0, 1], [0, 1], [1, 0], [1, 0], [1, 0], [1, 0], [0, 1], [0, 1], [1, 0], [0, 1], [1, 0], [1, 0], [1, 0], [1, 0], [1, 0], [0, 1], [0, 1], [0, 1], [0, 1], [0, 1], [0, 1], [0, 1], [0, 1], [0, 1], [1, 0], [0, 1], [1, 0], [0, 1], [0, 1], [0, 1], [1, 0], [0, 1], [0, 1], [0, 1], [1, 0], [1, 0], [0, 1], [1, 0], [1, 0], [0, 1], [0, 1], [0, 1], [1, 0], [0, 1], [0, 1], [0, 1], [0, 1], [0, 1], [0, 1], [1, 0], [0, 1], [0, 1], [0, 1], [0, 1], [0, 1], [0, 1], [0, 1], [1, 0], [0, 1], [1, 0], [1, 0], [0, 1], [1, 0], [0, 1], [1, 0], [0, 1], [0, 1], [0, 1], [0, 1], [0, 1], [0, 1], [0, 1], [0, 1], [0, 1], [1, 0], [0, 1], [1, 0], [1, 0], [0, 1], [0, 1], [0, 1], [1, 0], [0, 1], [0, 1], [0, 1], [0, 1], [0, 1], [0, 1], [1, 0], [1, 0], [0, 1], [0, 1], [0, 1], [0, 1], [0, 1], [0, 1], [1, 0], [1, 0], [0, 1], [0, 1], [0, 1], [1, 0], [0, 1], [0, 1], [1, 0], [1, 0], [1, 0], [0, 1], [0, 1], [1, 0], [0, 1], [1, 0], [1, 0], [1, 0], [1, 0], [0, 1], [1, 0], [1, 0], [1, 0], [1, 0], [1, 0], [0, 1], [0, 1], [1, 0], [1, 0], [1, 0], [0, 1], [0, 1], [1, 0], [0, 1], [0, 1], [0, 1], [1, 0], [0, 1], [1, 0], [0, 1], [1, 0], [0, 1], [0, 1], [1, 0], [0, 1], [1, 0], [1, 0], [1, 0], [1, 0], [1, 0], [0, 1], [1, 0], [0, 1], [1, 0], [0, 1], [0, 1], [0, 1], [0, 1], [0, 1], [0, 1], [0, 1], [0, 1], [0, 1], [1, 0], [0, 1], [0, 1], [1, 0], [1, 0], [0, 1], [1, 0], [0, 1], [1, 0], [0, 1], [1, 0], [1, 0], [0, 1], [0, 1], [1, 0], [0, 1], [0, 1], [0, 1], [0, 1], [1, 0], [0, 1], [0, 1], [1, 0], [0, 1], [1, 0], [1, 0], [0, 1], [0, 1], [1, 0], [1, 0], [1, 0], [1, 0], [1, 0], [0, 1], [0, 1], [1, 0], [0, 1], [0, 1], [0, 1], [0, 1], [1, 0], [1, 0], [1, 0], [0, 1], [0, 1], [0, 1], [0, 1], [0, 1], [0, 1], [0, 1], [0, 1], [1, 0], [0, 1], [1, 0], [0, 1], [0, 1], [0, 1], [0, 1], [0, 1], [0, 1], [0, 1], [1, 0], [0, 1], [0, 1], [1, 0], [0, 1], [1, 0], [0, 1], [0, 1], [1, 0], [0, 1], [0, 1], [1, 0], [1, 0], [1, 0], [1, 0], [0, 1], [0, 1], [0, 1], [0, 1], [1, 0], [1, 0], [0, 1], [0, 1], [0, 1], [0, 1], [1, 0], [0, 1], [1, 0], [0, 1], [0, 1], [0, 1], [0, 1], [0, 1], [0, 1], [0, 1], [1, 0], [1, 0], [1, 0], [1, 0], [1, 0], [0, 1], [1, 0], [0, 1], [0, 1], [0, 1], [0, 1], [1, 0], [0, 1], [0, 1], [0, 1], [0, 1], [0, 1], [0, 1], [0, 1], [0, 1], [1, 0], [1, 0], [0, 1], [0, 1], [1, 0], [0, 1], [1, 0], [0, 1], [0, 1], [1, 0], [0, 1], [1, 0], [1, 0], [0, 1], [0, 1], [0, 1], [1, 0], [0, 1], [0, 1], [0, 1], [1, 0], [0, 1], [0, 1], [1, 0], [0, 1], [1, 0], [1, 0], [1, 0], [0, 1], [1, 0], [0, 1], [0, 1], [0, 1], [0, 1], [0, 1], [0, 1], [0, 1], [1, 0], [0, 1], [1, 0], [0, 1], [0, 1], [1, 0], [0, 1], [0, 1], [1, 0], [0, 1], [1, 0], [1, 0], [1, 0], [0, 1], [0, 1], [1, 0], [0, 1], [0, 1], [1, 0], [0, 1], [0, 1], [1, 0], [0, 1], [0, 1], [0, 1], [0, 1], [0, 1], [0, 1], [1, 0], [0, 1], [0, 1], [1, 0], [1, 0], [0, 1], [0, 1], [0, 1], [0, 1], [0, 1], [0, 1], [1, 0], [1, 0], [0, 1], [0, 1], [0, 1], [1, 0], [1, 0], [0, 1], [1, 0], [1, 0], [0, 1], [0, 1], [0, 1], [0, 1], [1, 0], [0, 1], [0, 1], [1, 0], [1, 0], [1, 0], [0, 1], [0, 1], [1, 0], [1, 0], [0, 1], [0, 1], [0, 1], [0, 1], [0, 1], [0, 1], [0, 1], [0, 1], [1, 0], [1, 0], [0, 1], [0, 1], [1, 0], [1, 0], [0, 1], [1, 0], [1, 0], [1, 0], [0, 1], [0, 1], [0, 1], [1, 0], [1, 0], [1, 0], [1, 0], [0, 1], [1, 0], [0, 1], [1, 0], [0, 1], [0, 1], [1, 0], [0, 1], [1, 0], [0, 1], [1, 0], [0, 1], [1, 0], [1, 0], [0, 1], [0, 1], [1, 0], [0, 1], [1, 0], [0, 1], [1, 0], [1, 0], [0, 1], [0, 1], [0, 1], [1, 0], [1, 0], [1, 0], [1, 0], [0, 1], [0, 1], [0, 1], [1, 0], [0, 1], [0, 1], [0, 1], [1, 0], [0, 1], [1, 0], [0, 1], [0, 1], [1, 0], [1, 0], [0, 1], [1, 0], [1, 0], [1, 0], [0, 1], [1, 0], [0, 1], [0, 1], [0, 1], [0, 1], [1, 0], [0, 1], [0, 1], [0, 1], [0, 1], [0, 1], [0, 1], [0, 1], [1, 0], [1, 0], [0, 1], [1, 0], [1, 0], [1, 0], [0, 1], [0, 1], [0, 1], [0, 1], [0, 1], [1, 0], [0, 1], [1, 0], [0, 1], [1, 0], [1, 0], [0, 1], [1, 0], [0, 1], [0, 1], [1, 0], [0, 1], [0, 1], [0, 1])\n"
     ]
    }
   ],
   "source": [
    "\n",
    "names, labels = label_video_names(in_dir)\n",
    "print(labels)"
   ]
  },
  {
   "cell_type": "code",
   "execution_count": 8,
   "id": "advised-access",
   "metadata": {},
   "outputs": [
    {
     "data": {
      "text/plain": [
       "'fi2269_xvid..avi'"
      ]
     },
     "execution_count": 8,
     "metadata": {},
     "output_type": "execute_result"
    }
   ],
   "source": [
    "names[12]"
   ]
  },
  {
   "cell_type": "code",
   "execution_count": 9,
   "id": "appointed-convert",
   "metadata": {
    "scrolled": true
   },
   "outputs": [],
   "source": [
    "frames = get_frames(in_dir, names[12])"
   ]
  },
  {
   "cell_type": "code",
   "execution_count": 10,
   "id": "wooden-stage",
   "metadata": {},
   "outputs": [],
   "source": [
    "visible_frame = (frames*255).astype('uint8')"
   ]
  },
  {
   "cell_type": "code",
   "execution_count": 11,
   "id": "adjustable-elite",
   "metadata": {},
   "outputs": [
    {
     "data": {
      "text/plain": [
       "<matplotlib.image.AxesImage at 0x222b067d220>"
      ]
     },
     "execution_count": 11,
     "metadata": {},
     "output_type": "execute_result"
    },
    {
     "data": {
      "image/png": "[encoded data removed]",
      "text/plain": [
       "<Figure size 432x288 with 1 Axes>"
      ]
     },
     "metadata": {
      "needs_background": "light"
     },
     "output_type": "display_data"
    }
   ],
   "source": [
    "plt.imshow(visible_frame[3])"
   ]
  },
  {
   "cell_type": "code",
   "execution_count": 12,
   "id": "alert-title",
   "metadata": {},
   "outputs": [
    {
     "data": {
      "text/plain": [
       "<matplotlib.image.AxesImage at 0x222b0748c10>"
      ]
     },
     "execution_count": 12,
     "metadata": {},
     "output_type": "execute_result"
    },
    {
     "data": {
      "image/png": "[encoded data removed]",
      "text/plain": [
       "<Figure size 432x288 with 1 Axes>"
      ]
     },
     "metadata": {
      "needs_background": "light"
     },
     "output_type": "display_data"
    }
   ],
   "source": [
    "plt.imshow(visible_frame[15])"
   ]
  },
  {
   "cell_type": "code",
   "execution_count": 13,
   "id": "involved-bible",
   "metadata": {},
   "outputs": [],
   "source": [
    "image_model = VGG16(include_top=True, weights='imagenet')"
   ]
  },
  {
   "cell_type": "code",
   "execution_count": 14,
   "id": "naughty-destruction",
   "metadata": {},
   "outputs": [
    {
     "name": "stdout",
     "output_type": "stream",
     "text": [
      "Model: \"vgg16\"\n",
      "_________________________________________________________________\n",
      "Layer (type)                 Output Shape              Param #   \n",
      "=================================================================\n",
      "input_1 (InputLayer)         [(None, 224, 224, 3)]     0         \n",
      "_________________________________________________________________\n",
      "block1_conv1 (Conv2D)        (None, 224, 224, 64)      1792      \n",
      "_________________________________________________________________\n",
      "block1_conv2 (Conv2D)        (None, 224, 224, 64)      36928     \n",
      "_________________________________________________________________\n",
      "block1_pool (MaxPooling2D)   (None, 112, 112, 64)      0         \n",
      "_________________________________________________________________\n",
      "block2_conv1 (Conv2D)        (None, 112, 112, 128)     73856     \n",
      "_________________________________________________________________\n",
      "block2_conv2 (Conv2D)        (None, 112, 112, 128)     147584    \n",
      "_________________________________________________________________\n",
      "block2_pool (MaxPooling2D)   (None, 56, 56, 128)       0         \n",
      "_________________________________________________________________\n",
      "block3_conv1 (Conv2D)        (None, 56, 56, 256)       295168    \n",
      "_________________________________________________________________\n",
      "block3_conv2 (Conv2D)        (None, 56, 56, 256)       590080    \n",
      "_________________________________________________________________\n",
      "block3_conv3 (Conv2D)        (None, 56, 56, 256)       590080    \n",
      "_________________________________________________________________\n",
      "block3_pool (MaxPooling2D)   (None, 28, 28, 256)       0         \n",
      "_________________________________________________________________\n",
      "block4_conv1 (Conv2D)        (None, 28, 28, 512)       1180160   \n",
      "_________________________________________________________________\n",
      "block4_conv2 (Conv2D)        (None, 28, 28, 512)       2359808   \n",
      "_________________________________________________________________\n",
      "block4_conv3 (Conv2D)        (None, 28, 28, 512)       2359808   \n",
      "_________________________________________________________________\n",
      "block4_pool (MaxPooling2D)   (None, 14, 14, 512)       0         \n",
      "_________________________________________________________________\n",
      "block5_conv1 (Conv2D)        (None, 14, 14, 512)       2359808   \n",
      "_________________________________________________________________\n",
      "block5_conv2 (Conv2D)        (None, 14, 14, 512)       2359808   \n",
      "_________________________________________________________________\n",
      "block5_conv3 (Conv2D)        (None, 14, 14, 512)       2359808   \n",
      "_________________________________________________________________\n",
      "block5_pool (MaxPooling2D)   (None, 7, 7, 512)         0         \n",
      "_________________________________________________________________\n",
      "flatten (Flatten)            (None, 25088)             0         \n",
      "_________________________________________________________________\n",
      "fc1 (Dense)                  (None, 4096)              102764544 \n",
      "_________________________________________________________________\n",
      "fc2 (Dense)                  (None, 4096)              16781312  \n",
      "_________________________________________________________________\n",
      "predictions (Dense)          (None, 1000)              4097000   \n",
      "=================================================================\n",
      "Total params: 138,357,544\n",
      "Trainable params: 138,357,544\n",
      "Non-trainable params: 0\n",
      "_________________________________________________________________\n"
     ]
    }
   ],
   "source": [
    "image_model.summary()"
   ]
  },
  {
   "cell_type": "code",
   "execution_count": 15,
   "id": "comparative-stocks",
   "metadata": {},
   "outputs": [
    {
     "data": {
      "text/plain": [
       "[(None, 224, 224, 3)]"
      ]
     },
     "execution_count": 15,
     "metadata": {},
     "output_type": "execute_result"
    }
   ],
   "source": [
    "image_model.layers[0].output_shape[0:1]"
   ]
  },
  {
   "cell_type": "code",
   "execution_count": 16,
   "id": "greater-merit",
   "metadata": {},
   "outputs": [
    {
     "name": "stdout",
     "output_type": "stream",
     "text": [
      "(224, 224)\n"
     ]
    }
   ],
   "source": [
    "input_shape = image_model.layers[0].output_shape[:]\n",
    "\n",
    "input_shape=(224,224)\n",
    "print(input_shape)"
   ]
  },
  {
   "cell_type": "code",
   "execution_count": 17,
   "id": "approximate-culture",
   "metadata": {},
   "outputs": [
    {
     "name": "stdout",
     "output_type": "stream",
     "text": [
      "The input of the VGG16 net have dimensions: (224, 224)\n",
      "The output of the selecter layer of VGG16 net have dimensions:  4096\n"
     ]
    }
   ],
   "source": [
    "\n",
    "transfer_layer = image_model.get_layer('fc2')\n",
    "\n",
    "image_model_transfer = Model(inputs=image_model.input,\n",
    "                             outputs=transfer_layer.output)\n",
    "\n",
    "transfer_values_size = K.int_shape(transfer_layer.output)[1]\n",
    "\n",
    "\n",
    "print(\"The input of the VGG16 net have dimensions:\",K.int_shape(image_model.input)[1:3])\n",
    "\n",
    "print(\"The output of the selecter layer of VGG16 net have dimensions: \", transfer_values_size)"
   ]
  },
  {
   "cell_type": "code",
   "execution_count": 18,
   "id": "patent-cambridge",
   "metadata": {},
   "outputs": [],
   "source": [
    "def get_transfer_values(current_dir, file_name):\n",
    "    shape = (_images_per_file,) + img_size_touple + (3,)\n",
    "    \n",
    "    image_batch = np.zeros(shape=shape, dtype=np.float16)\n",
    "    image_batch = get_frames(current_dir, file_name)\n",
    "    shape = (_images_per_file, transfer_values_size)\n",
    "    transfer_values = np.zeros(shape=shape, dtype=np.float16)\n",
    "\n",
    "    transfer_values = \\\n",
    "            image_model_transfer.predict(image_batch)\n",
    "            \n",
    "    return transfer_values"
   ]
  },
  {
   "cell_type": "code",
   "execution_count": 19,
   "id": "historical-young",
   "metadata": {},
   "outputs": [],
   "source": [
    "def proces_transfer(vid_names, in_dir, labels):\n",
    "    \n",
    "    count = 0\n",
    "    \n",
    "    tam = len(vid_names)\n",
    "    shape = (_images_per_file,) + img_size_touple + (3,)\n",
    "    \n",
    "    while count<tam:\n",
    "        \n",
    "        video_name = vid_names[count]\n",
    "        image_batch = np.zeros(shape=shape, dtype=np.float16)\n",
    "        image_batch = get_frames(in_dir, video_name)\n",
    "        shape = (_images_per_file, transfer_values_size)\n",
    "        transfer_values = np.zeros(shape=shape, dtype=np.float16)\n",
    "        \n",
    "        transfer_values = \\\n",
    "            image_model_transfer.predict(image_batch)\n",
    "         \n",
    "        labels1 = labels[count]\n",
    "        aux = np.ones([20,2])\n",
    "        labelss = labels1*aux\n",
    "        \n",
    "        yield transfer_values, labelss\n",
    "        \n",
    "        count+=1"
   ]
  },
  {
   "cell_type": "code",
   "execution_count": 20,
   "id": "dynamic-oliver",
   "metadata": {},
   "outputs": [],
   "source": [
    "def make_files(n_files):\n",
    "    \n",
    "    gen = proces_transfer(names_training, in_dir, labels_training)\n",
    "\n",
    "    numer = 1\n",
    "\n",
    "    chunk = next(gen)\n",
    "\n",
    "    row_count = chunk[0].shape[0]\n",
    "    row_count2 = chunk[1].shape[0]\n",
    "    \n",
    "    with h5py.File('prueba.h5', 'w') as f:\n",
    "\n",
    "        maxshape = (None,) + chunk[0].shape[1:]\n",
    "        maxshape2 = (None,) + chunk[1].shape[1:]\n",
    "    \n",
    "    \n",
    "        dset = f.create_dataset('data', shape=chunk[0].shape, maxshape=maxshape,\n",
    "                                chunks=chunk[0].shape, dtype=chunk[0].dtype)\n",
    "    \n",
    "        dset2 = f.create_dataset('labels', shape=chunk[1].shape, maxshape=maxshape2,\n",
    "                                 chunks=chunk[1].shape, dtype=chunk[1].dtype)\n",
    "\n",
    "        dset[:] = chunk[0]\n",
    "        dset2[:] = chunk[1]\n",
    "\n",
    "        for chunk in gen:\n",
    "            \n",
    "            if numer == n_files:\n",
    "            \n",
    "                break\n",
    "\n",
    "            dset.resize(row_count + chunk[0].shape[0], axis=0)\n",
    "            dset2.resize(row_count2 + chunk[1].shape[0], axis=0)\n",
    "\n",
    "            dset[row_count:] = chunk[0]\n",
    "            dset2[row_count:] = chunk[1]\n",
    "\n",
    "            row_count += chunk[0].shape[0]\n",
    "            row_count2 += chunk[1].shape[0]\n",
    "            \n",
    "            print_progress(numer, n_files)\n",
    "        \n",
    "            numer += 1"
   ]
  },
  {
   "cell_type": "code",
   "execution_count": 21,
   "id": "matched-occurrence",
   "metadata": {},
   "outputs": [],
   "source": [
    "def make_files_test(n_files):\n",
    "    \n",
    "    gen = proces_transfer(names_test, in_dir, labels_test)\n",
    "\n",
    "    numer = 1\n",
    "\n",
    "    chunk = next(gen)\n",
    "\n",
    "    row_count = chunk[0].shape[0]\n",
    "    row_count2 = chunk[1].shape[0]\n",
    "    \n",
    "    with h5py.File('pruebavalidation.h5', 'w') as f:\n",
    "\n",
    "        maxshape = (None,) + chunk[0].shape[1:]\n",
    "        maxshape2 = (None,) + chunk[1].shape[1:]\n",
    "    \n",
    "    \n",
    "        dset = f.create_dataset('data', shape=chunk[0].shape, maxshape=maxshape,\n",
    "                                chunks=chunk[0].shape, dtype=chunk[0].dtype)\n",
    "    \n",
    "        dset2 = f.create_dataset('labels', shape=chunk[1].shape, maxshape=maxshape2,\n",
    "                                 chunks=chunk[1].shape, dtype=chunk[1].dtype)\n",
    "\n",
    "        dset[:] = chunk[0]\n",
    "        dset2[:] = chunk[1]\n",
    "\n",
    "        for chunk in gen:\n",
    "            \n",
    "            if numer == n_files:\n",
    "            \n",
    "                break\n",
    "\n",
    "            dset.resize(row_count + chunk[0].shape[0], axis=0)\n",
    "            dset2.resize(row_count2 + chunk[1].shape[0], axis=0)\n",
    "\n",
    "            dset[row_count:] = chunk[0]\n",
    "            dset2[row_count:] = chunk[1]\n",
    "\n",
    "            row_count += chunk[0].shape[0]\n",
    "            row_count2 += chunk[1].shape[0]\n",
    "            \n",
    "            print_progress(numer, n_files)\n",
    "        \n",
    "            numer += 1"
   ]
  },
  {
   "cell_type": "code",
   "execution_count": 22,
   "id": "critical-reservation",
   "metadata": {},
   "outputs": [],
   "source": [
    "training_set = int(len(names)*0.8)\n",
    "test_set = int(len(names)*0.2)\n",
    "\n",
    "names_training = names[0:training_set]\n",
    "names_test = names[training_set:]\n",
    "\n",
    "labels_training = labels[0:training_set]\n",
    "labels_test = labels[training_set:]"
   ]
  },
  {
   "cell_type": "code",
   "execution_count": 23,
   "id": "public-objective",
   "metadata": {},
   "outputs": [
    {
     "name": "stdout",
     "output_type": "stream",
     "text": [
      "- Progress: 99.9%"
     ]
    }
   ],
   "source": [
    "make_files(training_set)"
   ]
  },
  {
   "cell_type": "code",
   "execution_count": 24,
   "id": "liquid-preserve",
   "metadata": {},
   "outputs": [
    {
     "name": "stdout",
     "output_type": "stream",
     "text": [
      "- Progress: 99.7%"
     ]
    }
   ],
   "source": [
    "make_files_test(test_set)"
   ]
  },
  {
   "cell_type": "code",
   "execution_count": 25,
   "id": "progressive-musical",
   "metadata": {},
   "outputs": [],
   "source": [
    "def process_alldata_training():\n",
    "    \n",
    "    joint_transfer=[]\n",
    "    frames_num=20\n",
    "    count = 0\n",
    "    \n",
    "    with h5py.File('prueba.h5', 'r') as f:\n",
    "            \n",
    "        X_batch = f['data'][:]\n",
    "        y_batch = f['labels'][:]\n",
    "\n",
    "    for i in range(int(len(X_batch)/frames_num)):\n",
    "        inc = count+frames_num\n",
    "        joint_transfer.append([X_batch[count:inc],y_batch[count]])\n",
    "        count =inc\n",
    "        \n",
    "    data =[]\n",
    "    target=[]\n",
    "    \n",
    "    for i in joint_transfer:\n",
    "        data.append(i[0])\n",
    "        target.append(np.array(i[1]))\n",
    "        \n",
    "    return data, target"
   ]
  },
  {
   "cell_type": "code",
   "execution_count": 26,
   "id": "electrical-hepatitis",
   "metadata": {},
   "outputs": [],
   "source": [
    "def process_alldata_test():\n",
    "    \n",
    "    joint_transfer=[]\n",
    "    frames_num=20\n",
    "    count = 0\n",
    "    \n",
    "    with h5py.File('pruebavalidation.h5', 'r') as f:\n",
    "            \n",
    "        X_batch = f['data'][:]\n",
    "        y_batch = f['labels'][:]\n",
    "\n",
    "    for i in range(int(len(X_batch)/frames_num)):\n",
    "        inc = count+frames_num\n",
    "        joint_transfer.append([X_batch[count:inc],y_batch[count]])\n",
    "        count =inc\n",
    "        \n",
    "    data =[]\n",
    "    target=[]\n",
    "    \n",
    "    for i in joint_transfer:\n",
    "        data.append(i[0])\n",
    "        target.append(np.array(i[1]))\n",
    "        \n",
    "    return data, target"
   ]
  },
  {
   "cell_type": "code",
   "execution_count": 27,
   "id": "annual-label",
   "metadata": {},
   "outputs": [],
   "source": [
    "data, target = process_alldata_training()"
   ]
  },
  {
   "cell_type": "code",
   "execution_count": 28,
   "id": "daily-twelve",
   "metadata": {},
   "outputs": [],
   "source": [
    "data_test, target_test = process_alldata_test()"
   ]
  },
  {
   "cell_type": "code",
   "execution_count": 29,
   "id": "hollywood-nursery",
   "metadata": {},
   "outputs": [
    {
     "name": "stdout",
     "output_type": "stream",
     "text": [
      "Epoch 1/200\n",
      "2/2 [==============================] - 13s 6s/step - loss: 0.2570 - accuracy: 0.4704 - val_loss: 0.2328 - val_accuracy: 0.6331\n",
      "Epoch 2/200\n",
      "2/2 [==============================] - 2s 1s/step - loss: 0.2385 - accuracy: 0.6142 - val_loss: 0.2302 - val_accuracy: 0.6331\n",
      "Epoch 3/200\n",
      "2/2 [==============================] - 2s 1s/step - loss: 0.2346 - accuracy: 0.6149 - val_loss: 0.2291 - val_accuracy: 0.6331\n",
      "Epoch 4/200\n",
      "2/2 [==============================] - 2s 1s/step - loss: 0.2333 - accuracy: 0.6116 - val_loss: 0.2272 - val_accuracy: 0.6331\n",
      "Epoch 5/200\n",
      "2/2 [==============================] - 2s 1s/step - loss: 0.2317 - accuracy: 0.6076 - val_loss: 0.2239 - val_accuracy: 0.6331\n",
      "Epoch 6/200\n",
      "2/2 [==============================] - 2s 1s/step - loss: 0.2287 - accuracy: 0.6096 - val_loss: 0.2203 - val_accuracy: 0.6331\n",
      "Epoch 7/200\n",
      "2/2 [==============================] - 2s 2s/step - loss: 0.2245 - accuracy: 0.6129 - val_loss: 0.2184 - val_accuracy: 0.6331\n",
      "Epoch 8/200\n",
      "2/2 [==============================] - 2s 1s/step - loss: 0.2208 - accuracy: 0.6162 - val_loss: 0.2152 - val_accuracy: 0.6331\n",
      "Epoch 9/200\n",
      "2/2 [==============================] - 2s 1s/step - loss: 0.2183 - accuracy: 0.6104 - val_loss: 0.2106 - val_accuracy: 0.6331\n",
      "Epoch 10/200\n",
      "2/2 [==============================] - 2s 1s/step - loss: 0.2134 - accuracy: 0.6184 - val_loss: 0.2065 - val_accuracy: 0.6460\n",
      "Epoch 11/200\n",
      "2/2 [==============================] - 2s 1s/step - loss: 0.2112 - accuracy: 0.6351 - val_loss: 0.2037 - val_accuracy: 0.6950\n",
      "Epoch 12/200\n",
      "2/2 [==============================] - 2s 1s/step - loss: 0.2063 - accuracy: 0.6916 - val_loss: 0.1991 - val_accuracy: 0.7151\n",
      "Epoch 13/200\n",
      "2/2 [==============================] - 2s 1s/step - loss: 0.2018 - accuracy: 0.7158 - val_loss: 0.1965 - val_accuracy: 0.7583\n",
      "Epoch 14/200\n",
      "2/2 [==============================] - 2s 1s/step - loss: 0.1987 - accuracy: 0.7282 - val_loss: 0.1926 - val_accuracy: 0.7381\n",
      "Epoch 15/200\n",
      "2/2 [==============================] - 2s 1s/step - loss: 0.1967 - accuracy: 0.7289 - val_loss: 0.1888 - val_accuracy: 0.7410\n",
      "Epoch 16/200\n",
      "2/2 [==============================] - 2s 1s/step - loss: 0.1919 - accuracy: 0.7451 - val_loss: 0.1866 - val_accuracy: 0.7813\n",
      "Epoch 17/200\n",
      "2/2 [==============================] - 2s 1s/step - loss: 0.1882 - accuracy: 0.7669 - val_loss: 0.1826 - val_accuracy: 0.7856\n",
      "Epoch 18/200\n",
      "2/2 [==============================] - 2s 1s/step - loss: 0.1854 - accuracy: 0.7644 - val_loss: 0.1815 - val_accuracy: 0.7439\n",
      "Epoch 19/200\n",
      "2/2 [==============================] - 2s 1s/step - loss: 0.1843 - accuracy: 0.7467 - val_loss: 0.1758 - val_accuracy: 0.7942\n",
      "Epoch 20/200\n",
      "2/2 [==============================] - 2s 1s/step - loss: 0.1794 - accuracy: 0.7802 - val_loss: 0.1732 - val_accuracy: 0.7784\n",
      "Epoch 21/200\n",
      "2/2 [==============================] - 2s 1s/step - loss: 0.1720 - accuracy: 0.7742 - val_loss: 0.1709 - val_accuracy: 0.7971\n",
      "Epoch 22/200\n",
      "2/2 [==============================] - 2s 1s/step - loss: 0.1719 - accuracy: 0.8036 - val_loss: 0.1670 - val_accuracy: 0.8029\n",
      "Epoch 23/200\n",
      "2/2 [==============================] - 2s 1s/step - loss: 0.1695 - accuracy: 0.7887 - val_loss: 0.1642 - val_accuracy: 0.7986\n",
      "Epoch 24/200\n",
      "2/2 [==============================] - 2s 1s/step - loss: 0.1649 - accuracy: 0.7924 - val_loss: 0.1618 - val_accuracy: 0.8043\n",
      "Epoch 25/200\n",
      "2/2 [==============================] - 2s 1s/step - loss: 0.1615 - accuracy: 0.8187 - val_loss: 0.1579 - val_accuracy: 0.8086\n",
      "Epoch 26/200\n",
      "2/2 [==============================] - 2s 1s/step - loss: 0.1576 - accuracy: 0.8113 - val_loss: 0.1553 - val_accuracy: 0.8129\n",
      "Epoch 27/200\n",
      "2/2 [==============================] - 2s 1s/step - loss: 0.1538 - accuracy: 0.8220 - val_loss: 0.1517 - val_accuracy: 0.8144\n",
      "Epoch 28/200\n",
      "2/2 [==============================] - 2s 1s/step - loss: 0.1519 - accuracy: 0.8204 - val_loss: 0.1489 - val_accuracy: 0.8173\n",
      "Epoch 29/200\n",
      "2/2 [==============================] - 2s 1s/step - loss: 0.1468 - accuracy: 0.8247 - val_loss: 0.1464 - val_accuracy: 0.8216\n",
      "Epoch 30/200\n",
      "2/2 [==============================] - 2s 1s/step - loss: 0.1454 - accuracy: 0.8278 - val_loss: 0.1440 - val_accuracy: 0.8216\n",
      "Epoch 31/200\n",
      "2/2 [==============================] - 2s 1s/step - loss: 0.1398 - accuracy: 0.8333 - val_loss: 0.1425 - val_accuracy: 0.8288\n",
      "Epoch 32/200\n",
      "2/2 [==============================] - 2s 1s/step - loss: 0.1388 - accuracy: 0.8462 - val_loss: 0.1435 - val_accuracy: 0.8086\n",
      "Epoch 33/200\n",
      "2/2 [==============================] - 2s 1s/step - loss: 0.1409 - accuracy: 0.8176 - val_loss: 0.1357 - val_accuracy: 0.8273\n",
      "Epoch 34/200\n",
      "2/2 [==============================] - 2s 1s/step - loss: 0.1348 - accuracy: 0.8440 - val_loss: 0.1348 - val_accuracy: 0.8302\n",
      "Epoch 35/200\n",
      "2/2 [==============================] - 2s 1s/step - loss: 0.1291 - accuracy: 0.8489 - val_loss: 0.1362 - val_accuracy: 0.8230\n",
      "Epoch 36/200\n",
      "2/2 [==============================] - 2s 1s/step - loss: 0.1283 - accuracy: 0.8400 - val_loss: 0.1336 - val_accuracy: 0.8317\n",
      "Epoch 37/200\n",
      "2/2 [==============================] - 2s 1s/step - loss: 0.1331 - accuracy: 0.8431 - val_loss: 0.1293 - val_accuracy: 0.8388\n",
      "Epoch 38/200\n",
      "2/2 [==============================] - 2s 1s/step - loss: 0.1220 - accuracy: 0.8573 - val_loss: 0.1259 - val_accuracy: 0.8302\n",
      "Epoch 39/200\n",
      "2/2 [==============================] - 2s 1s/step - loss: 0.1217 - accuracy: 0.8578 - val_loss: 0.1241 - val_accuracy: 0.8331\n",
      "Epoch 40/200\n",
      "2/2 [==============================] - 2s 1s/step - loss: 0.1189 - accuracy: 0.8624 - val_loss: 0.1234 - val_accuracy: 0.8331\n",
      "Epoch 41/200\n",
      "2/2 [==============================] - 2s 1s/step - loss: 0.1196 - accuracy: 0.8578 - val_loss: 0.1244 - val_accuracy: 0.8403\n",
      "Epoch 42/200\n",
      "2/2 [==============================] - 2s 1s/step - loss: 0.1171 - accuracy: 0.8644 - val_loss: 0.1204 - val_accuracy: 0.8360\n",
      "Epoch 43/200\n",
      "2/2 [==============================] - 2s 1s/step - loss: 0.1156 - accuracy: 0.8640 - val_loss: 0.1186 - val_accuracy: 0.8388\n",
      "Epoch 44/200\n",
      "2/2 [==============================] - 2s 1s/step - loss: 0.1135 - accuracy: 0.8620 - val_loss: 0.1167 - val_accuracy: 0.8403\n",
      "Epoch 45/200\n",
      "2/2 [==============================] - 2s 1s/step - loss: 0.1099 - accuracy: 0.8693 - val_loss: 0.1201 - val_accuracy: 0.8446\n",
      "Epoch 46/200\n",
      "2/2 [==============================] - 2s 1s/step - loss: 0.1110 - accuracy: 0.8716 - val_loss: 0.1143 - val_accuracy: 0.8446\n",
      "Epoch 47/200\n",
      "2/2 [==============================] - 2s 1s/step - loss: 0.1079 - accuracy: 0.8762 - val_loss: 0.1187 - val_accuracy: 0.8460\n",
      "Epoch 48/200\n",
      "2/2 [==============================] - 2s 1s/step - loss: 0.1074 - accuracy: 0.8720 - val_loss: 0.1128 - val_accuracy: 0.8532\n",
      "Epoch 49/200\n",
      "2/2 [==============================] - 2s 1s/step - loss: 0.1105 - accuracy: 0.8684 - val_loss: 0.1199 - val_accuracy: 0.8374\n",
      "Epoch 50/200\n",
      "2/2 [==============================] - 2s 1s/step - loss: 0.1046 - accuracy: 0.8764 - val_loss: 0.1168 - val_accuracy: 0.8532\n",
      "Epoch 51/200\n",
      "2/2 [==============================] - 2s 1s/step - loss: 0.1106 - accuracy: 0.8618 - val_loss: 0.1386 - val_accuracy: 0.8086\n",
      "Epoch 52/200\n",
      "2/2 [==============================] - 2s 1s/step - loss: 0.1200 - accuracy: 0.8280 - val_loss: 0.1121 - val_accuracy: 0.8547\n",
      "Epoch 53/200\n",
      "2/2 [==============================] - 2s 1s/step - loss: 0.1110 - accuracy: 0.8578 - val_loss: 0.1105 - val_accuracy: 0.8532\n",
      "Epoch 54/200\n",
      "2/2 [==============================] - 2s 1s/step - loss: 0.1029 - accuracy: 0.8733 - val_loss: 0.1178 - val_accuracy: 0.8403\n",
      "Epoch 55/200\n",
      "2/2 [==============================] - 2s 1s/step - loss: 0.1076 - accuracy: 0.8569 - val_loss: 0.1109 - val_accuracy: 0.8547\n",
      "Epoch 56/200\n",
      "2/2 [==============================] - 2s 1s/step - loss: 0.1093 - accuracy: 0.8551 - val_loss: 0.1117 - val_accuracy: 0.8518\n",
      "Epoch 57/200\n",
      "2/2 [==============================] - 2s 1s/step - loss: 0.0941 - accuracy: 0.8849 - val_loss: 0.1068 - val_accuracy: 0.8576\n",
      "Epoch 58/200\n",
      "2/2 [==============================] - 2s 1s/step - loss: 0.0983 - accuracy: 0.8893 - val_loss: 0.1110 - val_accuracy: 0.8518\n",
      "Epoch 59/200\n",
      "2/2 [==============================] - 2s 1s/step - loss: 0.0989 - accuracy: 0.8864 - val_loss: 0.1054 - val_accuracy: 0.8561\n",
      "Epoch 60/200\n",
      "2/2 [==============================] - 2s 1s/step - loss: 0.0939 - accuracy: 0.8929 - val_loss: 0.1045 - val_accuracy: 0.8604\n",
      "Epoch 61/200\n",
      "2/2 [==============================] - 2s 1s/step - loss: 0.0946 - accuracy: 0.8927 - val_loss: 0.1112 - val_accuracy: 0.8504\n",
      "Epoch 62/200\n",
      "2/2 [==============================] - 2s 1s/step - loss: 0.0945 - accuracy: 0.8878 - val_loss: 0.1045 - val_accuracy: 0.8590\n",
      "Epoch 63/200\n",
      "2/2 [==============================] - 2s 1s/step - loss: 0.0959 - accuracy: 0.8842 - val_loss: 0.1059 - val_accuracy: 0.8561\n",
      "Epoch 64/200\n",
      "2/2 [==============================] - 2s 1s/step - loss: 0.0916 - accuracy: 0.8936 - val_loss: 0.1034 - val_accuracy: 0.8662\n",
      "Epoch 65/200\n",
      "2/2 [==============================] - 2s 1s/step - loss: 0.0862 - accuracy: 0.8978 - val_loss: 0.1026 - val_accuracy: 0.8619\n",
      "Epoch 66/200\n",
      "2/2 [==============================] - 2s 1s/step - loss: 0.0915 - accuracy: 0.8967 - val_loss: 0.1066 - val_accuracy: 0.8518\n",
      "Epoch 67/200\n",
      "2/2 [==============================] - 2s 1s/step - loss: 0.0904 - accuracy: 0.8949 - val_loss: 0.1005 - val_accuracy: 0.8705\n",
      "Epoch 68/200\n",
      "2/2 [==============================] - 2s 1s/step - loss: 0.0864 - accuracy: 0.8993 - val_loss: 0.1026 - val_accuracy: 0.8619\n",
      "Epoch 69/200\n",
      "2/2 [==============================] - 2s 1s/step - loss: 0.0865 - accuracy: 0.8987 - val_loss: 0.1024 - val_accuracy: 0.8604\n",
      "Epoch 70/200\n",
      "2/2 [==============================] - 2s 1s/step - loss: 0.0870 - accuracy: 0.9011 - val_loss: 0.1020 - val_accuracy: 0.8619\n",
      "Epoch 71/200\n",
      "2/2 [==============================] - 2s 1s/step - loss: 0.0829 - accuracy: 0.9022 - val_loss: 0.0992 - val_accuracy: 0.8705\n",
      "Epoch 72/200\n",
      "2/2 [==============================] - 2s 1s/step - loss: 0.0816 - accuracy: 0.9107 - val_loss: 0.0992 - val_accuracy: 0.8705\n",
      "Epoch 73/200\n",
      "2/2 [==============================] - 2s 1s/step - loss: 0.0820 - accuracy: 0.9016 - val_loss: 0.1009 - val_accuracy: 0.8662\n",
      "Epoch 74/200\n",
      "2/2 [==============================] - 2s 1s/step - loss: 0.0913 - accuracy: 0.8918 - val_loss: 0.1108 - val_accuracy: 0.8518\n",
      "Epoch 75/200\n",
      "2/2 [==============================] - 2s 1s/step - loss: 0.0882 - accuracy: 0.8931 - val_loss: 0.0968 - val_accuracy: 0.8705\n",
      "Epoch 76/200\n",
      "2/2 [==============================] - 2s 1s/step - loss: 0.0801 - accuracy: 0.9091 - val_loss: 0.1010 - val_accuracy: 0.8604\n",
      "Epoch 77/200\n",
      "2/2 [==============================] - 2s 1s/step - loss: 0.0811 - accuracy: 0.9038 - val_loss: 0.0978 - val_accuracy: 0.8719\n",
      "Epoch 78/200\n",
      "2/2 [==============================] - 2s 1s/step - loss: 0.0796 - accuracy: 0.9040 - val_loss: 0.0955 - val_accuracy: 0.8676\n",
      "Epoch 79/200\n",
      "2/2 [==============================] - 2s 1s/step - loss: 0.0793 - accuracy: 0.9089 - val_loss: 0.1025 - val_accuracy: 0.8561\n",
      "Epoch 80/200\n",
      "2/2 [==============================] - 2s 1s/step - loss: 0.0794 - accuracy: 0.9064 - val_loss: 0.0948 - val_accuracy: 0.8719\n",
      "Epoch 81/200\n",
      "2/2 [==============================] - 2s 1s/step - loss: 0.0753 - accuracy: 0.9147 - val_loss: 0.0966 - val_accuracy: 0.8719\n",
      "Epoch 82/200\n",
      "2/2 [==============================] - 2s 1s/step - loss: 0.0744 - accuracy: 0.9111 - val_loss: 0.0959 - val_accuracy: 0.8705\n",
      "Epoch 83/200\n",
      "2/2 [==============================] - 2s 1s/step - loss: 0.0737 - accuracy: 0.9153 - val_loss: 0.0965 - val_accuracy: 0.8676\n",
      "Epoch 84/200\n",
      "2/2 [==============================] - 2s 1s/step - loss: 0.0709 - accuracy: 0.9229 - val_loss: 0.0933 - val_accuracy: 0.8719\n",
      "Epoch 85/200\n",
      "2/2 [==============================] - 2s 1s/step - loss: 0.0713 - accuracy: 0.9191 - val_loss: 0.0978 - val_accuracy: 0.8705\n",
      "Epoch 86/200\n",
      "2/2 [==============================] - 2s 1s/step - loss: 0.0707 - accuracy: 0.9227 - val_loss: 0.0932 - val_accuracy: 0.8748\n",
      "Epoch 87/200\n",
      "2/2 [==============================] - 2s 1s/step - loss: 0.0698 - accuracy: 0.9262 - val_loss: 0.0928 - val_accuracy: 0.8777\n",
      "Epoch 88/200\n",
      "2/2 [==============================] - 2s 1s/step - loss: 0.0677 - accuracy: 0.9304 - val_loss: 0.1001 - val_accuracy: 0.8647\n",
      "Epoch 89/200\n",
      "2/2 [==============================] - 2s 1s/step - loss: 0.0693 - accuracy: 0.9204 - val_loss: 0.0992 - val_accuracy: 0.8662\n",
      "Epoch 90/200\n",
      "2/2 [==============================] - 2s 1s/step - loss: 0.0806 - accuracy: 0.8969 - val_loss: 0.1023 - val_accuracy: 0.8561\n",
      "Epoch 91/200\n",
      "2/2 [==============================] - 2s 1s/step - loss: 0.0740 - accuracy: 0.9169 - val_loss: 0.0906 - val_accuracy: 0.8763\n",
      "Epoch 92/200\n",
      "2/2 [==============================] - 2s 1s/step - loss: 0.0694 - accuracy: 0.9213 - val_loss: 0.0901 - val_accuracy: 0.8835\n",
      "Epoch 93/200\n",
      "2/2 [==============================] - 2s 1s/step - loss: 0.0633 - accuracy: 0.9353 - val_loss: 0.0910 - val_accuracy: 0.8777\n",
      "Epoch 94/200\n",
      "2/2 [==============================] - 2s 1s/step - loss: 0.0643 - accuracy: 0.9342 - val_loss: 0.0897 - val_accuracy: 0.8763\n",
      "Epoch 95/200\n",
      "2/2 [==============================] - 2s 1s/step - loss: 0.0637 - accuracy: 0.9284 - val_loss: 0.0891 - val_accuracy: 0.8791\n",
      "Epoch 96/200\n",
      "2/2 [==============================] - 2s 1s/step - loss: 0.0653 - accuracy: 0.9349 - val_loss: 0.0926 - val_accuracy: 0.8763\n",
      "Epoch 97/200\n",
      "2/2 [==============================] - 2s 1s/step - loss: 0.0627 - accuracy: 0.9316 - val_loss: 0.0883 - val_accuracy: 0.8863\n",
      "Epoch 98/200\n",
      "2/2 [==============================] - 2s 1s/step - loss: 0.0603 - accuracy: 0.9400 - val_loss: 0.0993 - val_accuracy: 0.8662\n",
      "Epoch 99/200\n",
      "2/2 [==============================] - 2s 1s/step - loss: 0.0644 - accuracy: 0.9258 - val_loss: 0.0887 - val_accuracy: 0.8791\n",
      "Epoch 100/200\n",
      "2/2 [==============================] - 2s 1s/step - loss: 0.0617 - accuracy: 0.9320 - val_loss: 0.0916 - val_accuracy: 0.8777\n",
      "Epoch 101/200\n",
      "2/2 [==============================] - 2s 1s/step - loss: 0.0601 - accuracy: 0.9369 - val_loss: 0.0880 - val_accuracy: 0.8820\n",
      "Epoch 102/200\n",
      "2/2 [==============================] - 2s 1s/step - loss: 0.0624 - accuracy: 0.9331 - val_loss: 0.0871 - val_accuracy: 0.8791\n",
      "Epoch 103/200\n",
      "2/2 [==============================] - 2s 1s/step - loss: 0.0578 - accuracy: 0.9422 - val_loss: 0.0885 - val_accuracy: 0.8849\n",
      "Epoch 104/200\n",
      "2/2 [==============================] - 2s 1s/step - loss: 0.0578 - accuracy: 0.9433 - val_loss: 0.0884 - val_accuracy: 0.8835\n",
      "Epoch 105/200\n",
      "2/2 [==============================] - 2s 1s/step - loss: 0.0594 - accuracy: 0.9351 - val_loss: 0.0962 - val_accuracy: 0.8719\n",
      "Epoch 106/200\n",
      "2/2 [==============================] - 2s 1s/step - loss: 0.0642 - accuracy: 0.9296 - val_loss: 0.0859 - val_accuracy: 0.8835\n",
      "Epoch 107/200\n",
      "2/2 [==============================] - 2s 1s/step - loss: 0.0576 - accuracy: 0.9373 - val_loss: 0.0863 - val_accuracy: 0.8849\n",
      "Epoch 108/200\n",
      "2/2 [==============================] - 2s 1s/step - loss: 0.0556 - accuracy: 0.9471 - val_loss: 0.0855 - val_accuracy: 0.8863\n",
      "Epoch 109/200\n",
      "2/2 [==============================] - 2s 1s/step - loss: 0.0585 - accuracy: 0.9393 - val_loss: 0.0857 - val_accuracy: 0.8806\n",
      "Epoch 110/200\n",
      "2/2 [==============================] - 2s 1s/step - loss: 0.0545 - accuracy: 0.9458 - val_loss: 0.0912 - val_accuracy: 0.8791\n",
      "Epoch 111/200\n",
      "2/2 [==============================] - 2s 1s/step - loss: 0.0540 - accuracy: 0.9487 - val_loss: 0.0854 - val_accuracy: 0.8791\n",
      "Epoch 112/200\n",
      "2/2 [==============================] - 2s 1s/step - loss: 0.0542 - accuracy: 0.9418 - val_loss: 0.0851 - val_accuracy: 0.8820\n",
      "Epoch 113/200\n",
      "2/2 [==============================] - 2s 1s/step - loss: 0.0544 - accuracy: 0.9429 - val_loss: 0.1158 - val_accuracy: 0.8489\n",
      "Epoch 114/200\n",
      "2/2 [==============================] - 2s 1s/step - loss: 0.0695 - accuracy: 0.9102 - val_loss: 0.1115 - val_accuracy: 0.8489\n",
      "Epoch 115/200\n",
      "2/2 [==============================] - 2s 1s/step - loss: 0.0970 - accuracy: 0.8611 - val_loss: 0.1049 - val_accuracy: 0.8662\n",
      "Epoch 116/200\n",
      "2/2 [==============================] - 2s 1s/step - loss: 0.0622 - accuracy: 0.9264 - val_loss: 0.0884 - val_accuracy: 0.8806\n",
      "Epoch 117/200\n",
      "2/2 [==============================] - 2s 1s/step - loss: 0.0565 - accuracy: 0.9320 - val_loss: 0.1172 - val_accuracy: 0.8475\n",
      "Epoch 118/200\n",
      "2/2 [==============================] - 2s 1s/step - loss: 0.0743 - accuracy: 0.9040 - val_loss: 0.0945 - val_accuracy: 0.8705\n",
      "Epoch 119/200\n",
      "2/2 [==============================] - 2s 1s/step - loss: 0.0625 - accuracy: 0.9216 - val_loss: 0.1255 - val_accuracy: 0.8317\n",
      "Epoch 120/200\n",
      "2/2 [==============================] - 2s 1s/step - loss: 0.0718 - accuracy: 0.9080 - val_loss: 0.1176 - val_accuracy: 0.8403\n",
      "Epoch 121/200\n",
      "2/2 [==============================] - 2s 1s/step - loss: 0.0921 - accuracy: 0.8762 - val_loss: 0.1238 - val_accuracy: 0.8345\n",
      "Epoch 122/200\n",
      "2/2 [==============================] - 2s 1s/step - loss: 0.0784 - accuracy: 0.8929 - val_loss: 0.0897 - val_accuracy: 0.8820\n",
      "Epoch 123/200\n",
      "2/2 [==============================] - 2s 1s/step - loss: 0.0679 - accuracy: 0.9142 - val_loss: 0.0958 - val_accuracy: 0.8777\n",
      "Epoch 124/200\n",
      "2/2 [==============================] - 2s 1s/step - loss: 0.0594 - accuracy: 0.9287 - val_loss: 0.0837 - val_accuracy: 0.8863\n",
      "Epoch 125/200\n",
      "2/2 [==============================] - 2s 1s/step - loss: 0.0553 - accuracy: 0.9358 - val_loss: 0.0881 - val_accuracy: 0.8820\n",
      "Epoch 126/200\n",
      "2/2 [==============================] - 2s 1s/step - loss: 0.0611 - accuracy: 0.9222 - val_loss: 0.1028 - val_accuracy: 0.8691\n",
      "Epoch 127/200\n",
      "2/2 [==============================] - 2s 1s/step - loss: 0.0589 - accuracy: 0.9262 - val_loss: 0.0905 - val_accuracy: 0.8791\n",
      "Epoch 128/200\n",
      "2/2 [==============================] - 2s 1s/step - loss: 0.0598 - accuracy: 0.9260 - val_loss: 0.0919 - val_accuracy: 0.8849\n",
      "Epoch 129/200\n",
      "2/2 [==============================] - 2s 1s/step - loss: 0.0546 - accuracy: 0.9442 - val_loss: 0.0818 - val_accuracy: 0.8921\n",
      "Epoch 130/200\n",
      "2/2 [==============================] - 2s 1s/step - loss: 0.0521 - accuracy: 0.9438 - val_loss: 0.0820 - val_accuracy: 0.8935\n",
      "Epoch 131/200\n",
      "2/2 [==============================] - 2s 1s/step - loss: 0.0520 - accuracy: 0.9431 - val_loss: 0.0853 - val_accuracy: 0.8863\n",
      "Epoch 132/200\n",
      "2/2 [==============================] - 2s 1s/step - loss: 0.0504 - accuracy: 0.9464 - val_loss: 0.0817 - val_accuracy: 0.8878\n",
      "Epoch 133/200\n",
      "2/2 [==============================] - 2s 1s/step - loss: 0.0466 - accuracy: 0.9509 - val_loss: 0.0912 - val_accuracy: 0.8820\n",
      "Epoch 134/200\n",
      "2/2 [==============================] - 2s 1s/step - loss: 0.0517 - accuracy: 0.9476 - val_loss: 0.0832 - val_accuracy: 0.8863\n",
      "Epoch 135/200\n",
      "2/2 [==============================] - 2s 1s/step - loss: 0.0488 - accuracy: 0.9516 - val_loss: 0.0871 - val_accuracy: 0.8863\n",
      "Epoch 136/200\n",
      "2/2 [==============================] - 2s 1s/step - loss: 0.0472 - accuracy: 0.9569 - val_loss: 0.0816 - val_accuracy: 0.8892\n",
      "Epoch 137/200\n",
      "2/2 [==============================] - 2s 1s/step - loss: 0.0473 - accuracy: 0.9496 - val_loss: 0.0818 - val_accuracy: 0.8892\n",
      "Epoch 138/200\n",
      "2/2 [==============================] - 2s 1s/step - loss: 0.0482 - accuracy: 0.9498 - val_loss: 0.0898 - val_accuracy: 0.8820\n",
      "Epoch 139/200\n",
      "2/2 [==============================] - 2s 1s/step - loss: 0.0479 - accuracy: 0.9464 - val_loss: 0.0842 - val_accuracy: 0.8806\n",
      "Epoch 140/200\n",
      "2/2 [==============================] - 2s 1s/step - loss: 0.0513 - accuracy: 0.9456 - val_loss: 0.0883 - val_accuracy: 0.8849\n",
      "Epoch 141/200\n",
      "2/2 [==============================] - 2s 1s/step - loss: 0.0472 - accuracy: 0.9520 - val_loss: 0.0819 - val_accuracy: 0.8835\n",
      "Epoch 142/200\n",
      "2/2 [==============================] - 2s 1s/step - loss: 0.0465 - accuracy: 0.9549 - val_loss: 0.0892 - val_accuracy: 0.8849\n",
      "Epoch 143/200\n",
      "2/2 [==============================] - 2s 1s/step - loss: 0.0467 - accuracy: 0.9544 - val_loss: 0.0821 - val_accuracy: 0.8878\n",
      "Epoch 144/200\n",
      "2/2 [==============================] - 2s 1s/step - loss: 0.0457 - accuracy: 0.9522 - val_loss: 0.0857 - val_accuracy: 0.8892\n",
      "Epoch 145/200\n",
      "2/2 [==============================] - 2s 1s/step - loss: 0.0422 - accuracy: 0.9556 - val_loss: 0.0819 - val_accuracy: 0.8978\n",
      "Epoch 146/200\n",
      "2/2 [==============================] - 2s 1s/step - loss: 0.0431 - accuracy: 0.9569 - val_loss: 0.0817 - val_accuracy: 0.8964\n",
      "Epoch 147/200\n",
      "2/2 [==============================] - 2s 1s/step - loss: 0.0440 - accuracy: 0.9556 - val_loss: 0.0827 - val_accuracy: 0.8892\n",
      "Epoch 148/200\n",
      "2/2 [==============================] - 2s 1s/step - loss: 0.0404 - accuracy: 0.9598 - val_loss: 0.0809 - val_accuracy: 0.8978\n",
      "Epoch 149/200\n",
      "2/2 [==============================] - 2s 1s/step - loss: 0.0408 - accuracy: 0.9607 - val_loss: 0.0814 - val_accuracy: 0.8978\n",
      "Epoch 150/200\n",
      "2/2 [==============================] - 2s 1s/step - loss: 0.0406 - accuracy: 0.9598 - val_loss: 0.0832 - val_accuracy: 0.8892\n",
      "Epoch 151/200\n",
      "2/2 [==============================] - 2s 1s/step - loss: 0.0423 - accuracy: 0.9573 - val_loss: 0.0814 - val_accuracy: 0.8964\n",
      "Epoch 152/200\n",
      "2/2 [==============================] - 2s 1s/step - loss: 0.0406 - accuracy: 0.9618 - val_loss: 0.0804 - val_accuracy: 0.8950\n",
      "Epoch 153/200\n",
      "2/2 [==============================] - 2s 1s/step - loss: 0.0403 - accuracy: 0.9640 - val_loss: 0.0829 - val_accuracy: 0.8935\n",
      "Epoch 154/200\n",
      "2/2 [==============================] - 2s 1s/step - loss: 0.0378 - accuracy: 0.9676 - val_loss: 0.0804 - val_accuracy: 0.8950\n",
      "Epoch 155/200\n",
      "2/2 [==============================] - 2s 1s/step - loss: 0.0394 - accuracy: 0.9649 - val_loss: 0.0870 - val_accuracy: 0.8878\n",
      "Epoch 156/200\n",
      "2/2 [==============================] - 2s 1s/step - loss: 0.0420 - accuracy: 0.9578 - val_loss: 0.0817 - val_accuracy: 0.8935\n",
      "Epoch 157/200\n",
      "2/2 [==============================] - 2s 1s/step - loss: 0.0388 - accuracy: 0.9624 - val_loss: 0.0800 - val_accuracy: 0.8935\n",
      "Epoch 158/200\n",
      "2/2 [==============================] - 2s 1s/step - loss: 0.0402 - accuracy: 0.9629 - val_loss: 0.0811 - val_accuracy: 0.8935\n",
      "Epoch 159/200\n",
      "2/2 [==============================] - 2s 1s/step - loss: 0.0358 - accuracy: 0.9684 - val_loss: 0.0817 - val_accuracy: 0.8950\n",
      "Epoch 160/200\n",
      "2/2 [==============================] - 2s 1s/step - loss: 0.0388 - accuracy: 0.9618 - val_loss: 0.0889 - val_accuracy: 0.8849\n",
      "Epoch 161/200\n",
      "2/2 [==============================] - 2s 1s/step - loss: 0.0398 - accuracy: 0.9593 - val_loss: 0.0798 - val_accuracy: 0.8892\n",
      "Epoch 162/200\n",
      "2/2 [==============================] - 3s 3s/step - loss: 0.0383 - accuracy: 0.9618 - val_loss: 0.0918 - val_accuracy: 0.8777\n",
      "Epoch 163/200\n",
      "2/2 [==============================] - 4s 1s/step - loss: 0.0417 - accuracy: 0.9551 - val_loss: 0.0791 - val_accuracy: 0.8935\n",
      "Epoch 164/200\n",
      "2/2 [==============================] - 2s 1s/step - loss: 0.0380 - accuracy: 0.9638 - val_loss: 0.0828 - val_accuracy: 0.8921\n",
      "Epoch 165/200\n",
      "2/2 [==============================] - 2s 1s/step - loss: 0.0366 - accuracy: 0.9644 - val_loss: 0.0830 - val_accuracy: 0.8921\n",
      "Epoch 166/200\n",
      "2/2 [==============================] - 2s 1s/step - loss: 0.0366 - accuracy: 0.9644 - val_loss: 0.0805 - val_accuracy: 0.8906\n",
      "Epoch 167/200\n",
      "2/2 [==============================] - 2s 1s/step - loss: 0.0404 - accuracy: 0.9549 - val_loss: 0.0892 - val_accuracy: 0.8835\n",
      "Epoch 168/200\n",
      "2/2 [==============================] - 2s 1s/step - loss: 0.0419 - accuracy: 0.9553 - val_loss: 0.0792 - val_accuracy: 0.8993\n",
      "Epoch 169/200\n",
      "2/2 [==============================] - 2s 1s/step - loss: 0.0360 - accuracy: 0.9651 - val_loss: 0.0877 - val_accuracy: 0.8849\n",
      "Epoch 170/200\n",
      "2/2 [==============================] - 2s 1s/step - loss: 0.0382 - accuracy: 0.9620 - val_loss: 0.0812 - val_accuracy: 0.8878\n",
      "Epoch 171/200\n",
      "2/2 [==============================] - 2s 1s/step - loss: 0.0401 - accuracy: 0.9542 - val_loss: 0.0863 - val_accuracy: 0.8892\n",
      "Epoch 172/200\n",
      "2/2 [==============================] - 2s 1s/step - loss: 0.0375 - accuracy: 0.9644 - val_loss: 0.0794 - val_accuracy: 0.8878\n",
      "Epoch 173/200\n",
      "2/2 [==============================] - 2s 1s/step - loss: 0.0386 - accuracy: 0.9631 - val_loss: 0.0866 - val_accuracy: 0.8906\n",
      "Epoch 174/200\n",
      "2/2 [==============================] - 2s 1s/step - loss: 0.0349 - accuracy: 0.9689 - val_loss: 0.0851 - val_accuracy: 0.8820\n",
      "Epoch 175/200\n",
      "2/2 [==============================] - 2s 1s/step - loss: 0.0453 - accuracy: 0.9482 - val_loss: 0.0866 - val_accuracy: 0.8921\n",
      "Epoch 176/200\n",
      "2/2 [==============================] - 2s 1s/step - loss: 0.0367 - accuracy: 0.9656 - val_loss: 0.0784 - val_accuracy: 0.8978\n",
      "Epoch 177/200\n",
      "2/2 [==============================] - 2s 1s/step - loss: 0.0368 - accuracy: 0.9642 - val_loss: 0.0786 - val_accuracy: 0.8993\n",
      "Epoch 178/200\n",
      "2/2 [==============================] - 2s 1s/step - loss: 0.0302 - accuracy: 0.9736 - val_loss: 0.0807 - val_accuracy: 0.8964\n",
      "Epoch 179/200\n",
      "2/2 [==============================] - 2s 1s/step - loss: 0.0346 - accuracy: 0.9676 - val_loss: 0.0796 - val_accuracy: 0.8892\n",
      "Epoch 180/200\n",
      "2/2 [==============================] - 2s 1s/step - loss: 0.0358 - accuracy: 0.9613 - val_loss: 0.0866 - val_accuracy: 0.8906\n",
      "Epoch 181/200\n",
      "2/2 [==============================] - 2s 1s/step - loss: 0.0352 - accuracy: 0.9664 - val_loss: 0.0779 - val_accuracy: 0.8993\n",
      "Epoch 182/200\n",
      "2/2 [==============================] - 2s 1s/step - loss: 0.0333 - accuracy: 0.9687 - val_loss: 0.0839 - val_accuracy: 0.8978\n",
      "Epoch 183/200\n",
      "2/2 [==============================] - 2s 1s/step - loss: 0.0347 - accuracy: 0.9676 - val_loss: 0.0783 - val_accuracy: 0.8964\n",
      "Epoch 184/200\n",
      "2/2 [==============================] - 2s 1s/step - loss: 0.0321 - accuracy: 0.9704 - val_loss: 0.0792 - val_accuracy: 0.8950\n",
      "Epoch 185/200\n",
      "2/2 [==============================] - 2s 1s/step - loss: 0.0321 - accuracy: 0.9707 - val_loss: 0.0794 - val_accuracy: 0.8950\n",
      "Epoch 186/200\n",
      "2/2 [==============================] - 2s 1s/step - loss: 0.0308 - accuracy: 0.9720 - val_loss: 0.0786 - val_accuracy: 0.8964\n",
      "Epoch 187/200\n",
      "2/2 [==============================] - 2s 1s/step - loss: 0.0322 - accuracy: 0.9707 - val_loss: 0.0817 - val_accuracy: 0.8964\n",
      "Epoch 188/200\n",
      "2/2 [==============================] - 2s 1s/step - loss: 0.0310 - accuracy: 0.9713 - val_loss: 0.0805 - val_accuracy: 0.8921\n",
      "Epoch 189/200\n",
      "2/2 [==============================] - 2s 1s/step - loss: 0.0314 - accuracy: 0.9704 - val_loss: 0.0955 - val_accuracy: 0.8748\n",
      "Epoch 190/200\n",
      "2/2 [==============================] - 2s 1s/step - loss: 0.0361 - accuracy: 0.9640 - val_loss: 0.0841 - val_accuracy: 0.8849\n",
      "Epoch 191/200\n",
      "2/2 [==============================] - 2s 1s/step - loss: 0.0385 - accuracy: 0.9564 - val_loss: 0.0922 - val_accuracy: 0.8763\n",
      "Epoch 192/200\n",
      "2/2 [==============================] - 2s 1s/step - loss: 0.0394 - accuracy: 0.9564 - val_loss: 0.0854 - val_accuracy: 0.8906\n",
      "Epoch 193/200\n",
      "2/2 [==============================] - 2s 1s/step - loss: 0.0349 - accuracy: 0.9660 - val_loss: 0.0792 - val_accuracy: 0.8964\n",
      "Epoch 194/200\n",
      "2/2 [==============================] - 2s 1s/step - loss: 0.0317 - accuracy: 0.9667 - val_loss: 0.0908 - val_accuracy: 0.8820\n",
      "Epoch 195/200\n",
      "2/2 [==============================] - 2s 1s/step - loss: 0.0358 - accuracy: 0.9658 - val_loss: 0.0779 - val_accuracy: 0.9007\n",
      "Epoch 196/200\n",
      "2/2 [==============================] - 2s 1s/step - loss: 0.0294 - accuracy: 0.9729 - val_loss: 0.0879 - val_accuracy: 0.8906\n",
      "Epoch 197/200\n",
      "2/2 [==============================] - 2s 1s/step - loss: 0.0343 - accuracy: 0.9687 - val_loss: 0.0795 - val_accuracy: 0.8921\n",
      "Epoch 198/200\n",
      "2/2 [==============================] - 2s 1s/step - loss: 0.0324 - accuracy: 0.9658 - val_loss: 0.0847 - val_accuracy: 0.8964\n",
      "Epoch 199/200\n",
      "2/2 [==============================] - 2s 1s/step - loss: 0.0348 - accuracy: 0.9664 - val_loss: 0.0805 - val_accuracy: 0.8906\n",
      "Epoch 200/200\n",
      "2/2 [==============================] - 2s 1s/step - loss: 0.0358 - accuracy: 0.9629 - val_loss: 0.1031 - val_accuracy: 0.8676\n"
     ]
    }
   ],
   "source": [
    "from keras import backend as K\n",
    "import tensorflow as tf\n",
    "from tensorflow.keras.models import Sequential\n",
    "from tensorflow.keras.layers import Dense, Dropout, Activation, Flatten,Conv2D, MaxPooling2D,LSTM,Bidirectional\n",
    "from tensorflow.keras.optimizers import Adam, SGD\n",
    "from tensorflow.keras.callbacks import TensorBoard\n",
    "\n",
    "NAME=\"Reallife\"\n",
    "\n",
    "tensorboard=TensorBoard(log_dir='logs/{}'.format(NAME))\n",
    "model=Sequential()\n",
    "model.add(Bidirectional(LSTM(64, input_shape=(20, 2048))))\n",
    "model.add(Dense(32,activation='relu'))\n",
    "model.add(Dense(10,activation='sigmoid'))\n",
    "model.add(Dense(2,activation='softmax'))\n",
    "model.compile(loss='binary_crossentropy',optimizer='adam',metrics=['accuracy'])\n",
    "history = model.fit(np.array(data[0:750]), np.array(target[0:750]),epochs=200,\n",
    "                    validation_data=(np.array(data[750:]), np.array(target[750:])),\n",
    "                    batch_size=500,callbacks=[tensorboard])\n",
    "model.save(\"reallife.h5\")\n"
   ]
  },
  {
   "cell_type": "code",
   "execution_count": 30,
   "id": "realistic-personality",
   "metadata": {},
   "outputs": [
    {
     "name": "stdout",
     "output_type": "stream",
     "text": [
      "12/12 [==============================] - 0s 36ms/step - loss: 0.0949 - accuracy: 0.8809\n"
     ]
    }
   ],
   "source": [
    "result = model.evaluate(np.array(data_test), np.array(target_test))"
   ]
  },
  {
   "cell_type": "code",
   "execution_count": 31,
   "id": "valuable-prefix",
   "metadata": {},
   "outputs": [
    {
     "name": "stdout",
     "output_type": "stream",
     "text": [
      "loss 0.09487171471118927\n",
      "accuracy 0.880886435508728\n"
     ]
    }
   ],
   "source": [
    "for name, value in zip(model.metrics_names, result):\n",
    "    print(name, value)"
   ]
  },
  {
   "cell_type": "code",
   "execution_count": 32,
   "id": "adult-combination",
   "metadata": {},
   "outputs": [
    {
     "data": {
      "text/plain": [
       "dict_keys(['loss', 'accuracy', 'val_loss', 'val_accuracy'])"
      ]
     },
     "execution_count": 32,
     "metadata": {},
     "output_type": "execute_result"
    }
   ],
   "source": [
    "history.history.keys()"
   ]
  },
  {
   "cell_type": "code",
   "execution_count": 33,
   "id": "persistent-chick",
   "metadata": {
    "scrolled": true
   },
   "outputs": [
    {
     "name": "stderr",
     "output_type": "stream",
     "text": [
      "The PostScript backend does not support transparency; partially transparent artists will be rendered opaque.\n",
      "The PostScript backend does not support transparency; partially transparent artists will be rendered opaque.\n"
     ]
    },
    {
     "data": {
      "image/png": "[encoded data removed]",
      "text/plain": [
       "<Figure size 432x288 with 1 Axes>"
      ]
     },
     "metadata": {
      "needs_background": "light"
     },
     "output_type": "display_data"
    },
    {
     "name": "stderr",
     "output_type": "stream",
     "text": [
      "The PostScript backend does not support transparency; partially transparent artists will be rendered opaque.\n",
      "The PostScript backend does not support transparency; partially transparent artists will be rendered opaque.\n"
     ]
    },
    {
     "data": {
      "image/png": "[encoded data removed]",
      "text/plain": [
       "<Figure size 432x288 with 1 Axes>"
      ]
     },
     "metadata": {
      "needs_background": "light"
     },
     "output_type": "display_data"
    }
   ],
   "source": [
    "plt.plot(history.history['accuracy'])\n",
    "plt.plot(history.history['val_accuracy'])\n",
    "plt.title('model accuracy')\n",
    "plt.ylabel('accuracy')\n",
    "plt.xlabel('epoch')\n",
    "plt.legend(['train', 'validation'], loc='upper left')\n",
    "plt.savefig('destination_path.eps', format='eps', dpi=1000)\n",
    "plt.show()\n",
    "\n",
    "plt.plot(history.history['loss'])\n",
    "plt.plot(history.history['val_loss'])\n",
    "plt.title('model loss')\n",
    "plt.ylabel('loss')\n",
    "plt.xlabel('epoch')\n",
    "plt.legend(['train', 'validation'], loc='upper left')\n",
    "plt.savefig('destination_path1.eps', format='eps', dpi=1000)\n",
    "plt.show()"
   ]
  },
  {
   "cell_type": "code",
   "execution_count": null,
   "id": "suburban-infection",
   "metadata": {},
   "outputs": [],
   "source": []
  }
 ],
 "metadata": {
  "kernelspec": {
   "display_name": "Python 3",
   "language": "python",
   "name": "python3"
  },
  "language_info": {
   "codemirror_mode": {
    "name": "ipython",
    "version": 3
   },
   "file_extension": ".py",
   "mimetype": "text/x-python",
   "name": "python",
   "nbconvert_exporter": "python",
   "pygments_lexer": "ipython3",
   "version": "3.8.0"
  }
 },
 "nbformat": 4,
 "nbformat_minor": 5
}
